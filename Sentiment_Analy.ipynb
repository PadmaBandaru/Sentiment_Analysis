{
  "nbformat": 4,
  "nbformat_minor": 0,
  "metadata": {
    "colab": {
      "provenance": []
    },
    "kernelspec": {
      "name": "python3",
      "display_name": "Python 3"
    },
    "language_info": {
      "name": "python"
    }
  },
  "cells": [
    {
      "cell_type": "code",
      "source": [
        "pip install textblob"
      ],
      "metadata": {
        "colab": {
          "base_uri": "https://localhost:8080/"
        },
        "id": "HsZB3vmQtopb",
        "outputId": "3ca79052-4ae9-4948-f722-3f6cd594e682"
      },
      "execution_count": null,
      "outputs": [
        {
          "output_type": "stream",
          "name": "stdout",
          "text": [
            "Requirement already satisfied: textblob in /usr/local/lib/python3.11/dist-packages (0.19.0)\n",
            "Requirement already satisfied: nltk>=3.9 in /usr/local/lib/python3.11/dist-packages (from textblob) (3.9.1)\n",
            "Requirement already satisfied: click in /usr/local/lib/python3.11/dist-packages (from nltk>=3.9->textblob) (8.1.8)\n",
            "Requirement already satisfied: joblib in /usr/local/lib/python3.11/dist-packages (from nltk>=3.9->textblob) (1.4.2)\n",
            "Requirement already satisfied: regex>=2021.8.3 in /usr/local/lib/python3.11/dist-packages (from nltk>=3.9->textblob) (2024.11.6)\n",
            "Requirement already satisfied: tqdm in /usr/local/lib/python3.11/dist-packages (from nltk>=3.9->textblob) (4.67.1)\n"
          ]
        }
      ]
    },
    {
      "cell_type": "code",
      "source": [
        "from textblob import TextBlob\n",
        "from textblob.classifiers import NaiveBayesClassifier"
      ],
      "metadata": {
        "id": "JRCAbcfxuKhs"
      },
      "execution_count": null,
      "outputs": []
    },
    {
      "cell_type": "code",
      "source": [
        "train_data = [\n",
        "    (\"I love programming\", \"positive\"),\n",
        "    (\"Python is awesome\", \"positive\"),\n",
        "    (\"I hate bugs\", \"negative\"),\n",
        "    (\"Debugging is fun\", \"positive\"),\n",
        "    (\"I do not like this\", \"negative\"),\n",
        "    (\"This is frustrating\", \"negative\"),\n",
        "    (\"I enjoy solving problems\", \"positive\"),\n",
        "    (\"The project is boring\", \"negative\"),\n",
        "    (\"This is exciting\", \"positive\")\n",
        "]"
      ],
      "metadata": {
        "id": "fjGcvks8uVnw"
      },
      "execution_count": null,
      "outputs": []
    },
    {
      "cell_type": "code",
      "source": [
        "!python -m textblob.download_corpora"
      ],
      "metadata": {
        "colab": {
          "base_uri": "https://localhost:8080/"
        },
        "id": "4DgAJ74MvCgf",
        "outputId": "bd55ac02-5ff4-4fef-f3a3-c86799bebee7"
      },
      "execution_count": null,
      "outputs": [
        {
          "output_type": "stream",
          "name": "stdout",
          "text": [
            "[nltk_data] Downloading package brown to /root/nltk_data...\n",
            "[nltk_data]   Unzipping corpora/brown.zip.\n",
            "[nltk_data] Downloading package punkt_tab to /root/nltk_data...\n",
            "[nltk_data]   Unzipping tokenizers/punkt_tab.zip.\n",
            "[nltk_data] Downloading package wordnet to /root/nltk_data...\n",
            "[nltk_data] Downloading package averaged_perceptron_tagger_eng to\n",
            "[nltk_data]     /root/nltk_data...\n",
            "[nltk_data]   Unzipping taggers/averaged_perceptron_tagger_eng.zip.\n",
            "[nltk_data] Downloading package conll2000 to /root/nltk_data...\n",
            "[nltk_data]   Unzipping corpora/conll2000.zip.\n",
            "[nltk_data] Downloading package movie_reviews to /root/nltk_data...\n",
            "[nltk_data]   Unzipping corpora/movie_reviews.zip.\n",
            "Finished.\n"
          ]
        }
      ]
    },
    {
      "cell_type": "code",
      "source": [
        "\n",
        "# Initialize and train the classifier\n",
        "classifier = NaiveBayesClassifier(train_data)"
      ],
      "metadata": {
        "id": "xlSiEcBaubL9"
      },
      "execution_count": null,
      "outputs": []
    },
    {
      "cell_type": "code",
      "source": [
        "new_text = \"The project is boring\"\n",
        "blob = TextBlob(new_text, classifier=classifier)\n",
        "new_text1 = \"I enjoy solving problems\"\n",
        "blob1 = TextBlob(new_text1, classifier=classifier)\n",
        "\n",
        "# Output the classification\n",
        "print(f\"Classification of '{new_text}': {blob.classify()}\")\n",
        "print(f\"Classification of '{new_text1}': {blob1.classify()}\")"
      ],
      "metadata": {
        "colab": {
          "base_uri": "https://localhost:8080/"
        },
        "id": "tSUylJnZvHR_",
        "outputId": "045ad906-fd9d-4a80-fc2f-f06f051450b6"
      },
      "execution_count": null,
      "outputs": [
        {
          "output_type": "stream",
          "name": "stdout",
          "text": [
            "Classification of 'The project is boring': negative\n",
            "Classification of 'I enjoy solving problems': positive\n"
          ]
        }
      ]
    },
    {
      "cell_type": "code",
      "source": [
        "pip install textblob\n",
        "from textblob import TextBlob\n",
        "from textblob.classifiers import NaiveBayesClassifier\n",
        "train_data = [\n",
        "    (\"I love programming\", \"positive\"),\n",
        "    (\"Python is awesome\", \"positive\"),\n",
        "    (\"I hate bugs\", \"negative\"),\n",
        "    (\"Debugging is fun\", \"positive\"),\n",
        "    (\"I do not like this\", \"negative\"),\n",
        "    (\"This is frustrating\", \"negative\"),\n",
        "    (\"I enjoy solving problems\", \"positive\"),\n",
        "    (\"The project is boring\", \"negative\"),\n",
        "    (\"This is exciting\", \"positive\")\n",
        "]\n",
        "# Initialize and train the classifier\n",
        "classifier = NaiveBayesClassifier(train_data)\n",
        "new_text = \"The project is boring\"\n",
        "blob = TextBlob(new_text, classifier=classifier)\n",
        "new_text1 = \"I enjoy solving problems\"\n",
        "blob1 = TextBlob(new_text1, classifier=classifier)\n",
        "# Output the classification\n",
        "print(f\"Classification of '{new_text}': {blob.classify()}\")\n",
        "print(f\"Classification of '{new_text1}': {blob1.classify()}\")"
      ],
      "metadata": {
        "id": "EQ0CgNOX8d6R",
        "colab": {
          "base_uri": "https://localhost:8080/"
        },
        "outputId": "a0e1441d-11cc-492b-abd3-f76ff193a361"
      },
      "execution_count": null,
      "outputs": [
        {
          "output_type": "stream",
          "name": "stdout",
          "text": [
            "Classification of 'The project is boring': negative\n",
            "Classification of 'I enjoy solving problems': positive\n"
          ]
        }
      ]
    }
  ]
}